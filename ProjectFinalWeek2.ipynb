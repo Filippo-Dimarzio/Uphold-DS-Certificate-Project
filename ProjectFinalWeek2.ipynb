{
  "nbformat": 4,
  "nbformat_minor": 0,
  "metadata": {
    "colab": {
      "provenance": []
    },
    "kernelspec": {
      "name": "python3",
      "display_name": "Python 3"
    },
    "language_info": {
      "name": "python"
    }
  },
  "cells": [
    {
      "cell_type": "code",
      "execution_count": 1,
      "metadata": {
        "colab": {
          "base_uri": "https://localhost:8080/"
        },
        "id": "D8I1rd_o71MN",
        "outputId": "6102601d-02e9-49e9-e241-e87eda8dfef8"
      },
      "outputs": [
        {
          "output_type": "stream",
          "name": "stdout",
          "text": [
            "Mounted at /content/drive\n"
          ]
        }
      ],
      "source": [
        "from google.colab import drive\n",
        "drive.mount('/content/drive')"
      ]
    },
    {
      "cell_type": "code",
      "source": [
        "import pandas as pd"
      ],
      "metadata": {
        "id": "SgRIrGhn8oJQ"
      },
      "execution_count": 2,
      "outputs": []
    },
    {
      "cell_type": "code",
      "source": [
        "sales_df = pd.read_csv('/content/drive/My Drive/sales_data.csv')\n",
        "\n",
        "print(\"Sales Data Loaded\")\n",
        "print(\"First 5 rows of sales_df:\")\n",
        "print(sales_df.head())\n",
        "print(\"\\nQuick info about sales_df (data types and missing values):\")\n",
        "sales_df.info()\n"
      ],
      "metadata": {
        "id": "tCLDL4VQ8oKr"
      },
      "execution_count": null,
      "outputs": []
    },
    {
      "cell_type": "code",
      "source": [
        "sales_df = pd.read_csv('/content/drive/My Drive/sales_data.csv')\n",
        "product_df = pd.read_csv('/content/drive/My Drive/product_info.csv')\n",
        "customer_df = pd.read_csv('/content/drive/My Drive/customer_info.csv')\n",
        "\n",
        "print(\"All DataFrames loaded.\")"
      ],
      "metadata": {
        "colab": {
          "base_uri": "https://localhost:8080/"
        },
        "id": "1ol-1Jxe9MTx",
        "outputId": "17e343a6-19f3-42c4-cd29-1800fa2ecbc3"
      },
      "execution_count": 3,
      "outputs": [
        {
          "output_type": "stream",
          "name": "stdout",
          "text": [
            "All DataFrames loaded.\n"
          ]
        }
      ]
    },
    {
      "cell_type": "code",
      "source": [
        "print(\" Cleaning sales_df\")\n",
        "\n",
        "sales_df['delivery_status'] = sales_df['delivery_status'].str.strip().str.title()\n",
        "sales_df['payment_method'] = sales_df['payment_method'].str.strip().str.title()\n",
        "sales_df['region'] = sales_df['region'].str.strip().str.title()\n",
        "print(\"Sales_df text columns have been standardized.\")\n",
        "\n",
        "\n",
        "sales_df['quantity'] = pd.to_numeric(sales_df['quantity'], errors='coerce').fillna(0)\n",
        "sales_df['unit_price'] = pd.to_numeric(sales_df['unit_price'], errors='coerce').fillna(0)\n",
        "sales_df['discount_applied'] = pd.to_numeric(sales_df['discount_applied'], errors='coerce').fillna(0)\n",
        "sales_df['order_date'] = pd.to_datetime(sales_df['order_date'], errors='coerce')\n",
        "print(\"Sales_df 'order_date', 'quantity', 'unit_price', and 'discount_applied' converted to numeric and datetime.\")\n",
        "\n",
        "\n",
        "\n",
        "\n",
        "print(\"Missing values in sales_df after handling:\\n\", sales_df.isnull().sum())\n",
        "\n",
        "\n",
        "initial_sales_rows = len(sales_df)\n",
        "sales_df.drop_duplicates(subset='order_id', inplace=True)\n",
        "print(f\"Sales_df duplicates have been removed. Rows before: {initial_sales_rows}, after: {len(sales_df)}\")\n",
        "\n",
        "\n",
        "print(f\"Sales_df: Negative quantity values: {(sales_df['quantity'] < 0).sum()}\")\n",
        "print(f\"Sales_df: Negative unit_price values: {(sales_df['unit_price'] < 0).sum()}\")\n",
        "print(f\"Sales_df: Negative discount_applied values: {(sales_df['discount_applied'] < 0).sum()}\")"
      ],
      "metadata": {
        "colab": {
          "base_uri": "https://localhost:8080/"
        },
        "id": "YTdwpsYV9Pvz",
        "outputId": "f3447d83-2cff-41da-a97e-1a02b6482895"
      },
      "execution_count": 6,
      "outputs": [
        {
          "output_type": "stream",
          "name": "stdout",
          "text": [
            " Cleaning sales_df\n",
            "Sales_df text columns standardized.\n",
            "Sales_df 'order_date', 'quantity', 'unit_price', and 'discount_applied' converted to numeric and datetime.\n",
            "Missing values in sales_df after handling:\n",
            " order_id            1\n",
            "customer_id         2\n",
            "product_id          5\n",
            "quantity            0\n",
            "unit_price          0\n",
            "order_date          3\n",
            "delivery_status     3\n",
            "payment_method      3\n",
            "region              0\n",
            "discount_applied    0\n",
            "dtype: int64\n",
            "Sales_df duplicates removed. Rows before: 2998, after: 2998\n",
            "Sales_df: Negative quantity values: 0\n",
            "Sales_df: Negative unit_price values: 0\n",
            "Sales_df: Negative discount_applied values: 0\n"
          ]
        }
      ]
    },
    {
      "cell_type": "code",
      "source": [
        "print(\"\\n Cleaning product_df\")\n",
        "\n",
        "\n",
        "product_df['product_name'] = product_df['product_name'].str.strip().str.title()\n",
        "product_df['category'] = product_df['category'].str.strip().str.title()\n",
        "print(\"Product_df text columns have been standardized.\")\n",
        "\n",
        "\n",
        "product_df['launch_date'] = pd.to_datetime(product_df['launch_date'])\n",
        "print(\"Product_df 'launch_date' have been converted to datetime.\")\n",
        "\n",
        "\n",
        "product_df['supplier_code'].fillna('Unknown', inplace=True)\n",
        "print(\"Product_df missing 'supplier_code' filled.\")\n",
        "print(\"Missing values in product_df after handling:\\n\", product_df.isnull().sum())\n",
        "\n",
        "\n",
        "initial_product_rows = len(product_df)\n",
        "product_df.drop_duplicates(subset='product_id', inplace=True)\n",
        "print(f\"Product_df duplicates have been removed. Rows before: {initial_product_rows}, after: {len(product_df)}\")\n",
        "\n",
        "\n",
        "print(f\"Product_df: Negative base_price values: {(product_df['base_price'] < 0).sum()}\")\n",
        "\n",
        "print(\" product_df Cleaning Complete\")"
      ],
      "metadata": {
        "colab": {
          "base_uri": "https://localhost:8080/"
        },
        "id": "JL_AiYqG9ykx",
        "outputId": "579707ed-d242-4526-b3f6-4c6107d49863"
      },
      "execution_count": 7,
      "outputs": [
        {
          "output_type": "stream",
          "name": "stdout",
          "text": [
            "\n",
            "--- Cleaning product_df ---\n",
            "Product_df text columns standardized.\n",
            "Product_df 'launch_date' converted to datetime.\n",
            "Product_df missing 'supplier_code' filled.\n",
            "Missing values in product_df after handling:\n",
            " product_id       0\n",
            "product_name     0\n",
            "category         0\n",
            "launch_date      0\n",
            "base_price       0\n",
            "supplier_code    0\n",
            "dtype: int64\n",
            "Product_df duplicates removed. Rows before: 30, after: 30\n",
            "Product_df: Negative base_price values: 0\n",
            "--- product_df Cleaning Complete ---\n"
          ]
        },
        {
          "output_type": "stream",
          "name": "stderr",
          "text": [
            "/tmp/ipython-input-7-3788476847.py:9: UserWarning: Could not infer format, so each element will be parsed individually, falling back to `dateutil`. To ensure parsing is consistent and as-expected, please specify a format.\n",
            "  product_df['launch_date'] = pd.to_datetime(product_df['launch_date'])\n",
            "/tmp/ipython-input-7-3788476847.py:13: FutureWarning: A value is trying to be set on a copy of a DataFrame or Series through chained assignment using an inplace method.\n",
            "The behavior will change in pandas 3.0. This inplace method will never work because the intermediate object on which we are setting values always behaves as a copy.\n",
            "\n",
            "For example, when doing 'df[col].method(value, inplace=True)', try using 'df.method({col: value}, inplace=True)' or df[col] = df[col].method(value) instead, to perform the operation inplace on the original object.\n",
            "\n",
            "\n",
            "  product_df['supplier_code'].fillna('Unknown', inplace=True)\n"
          ]
        }
      ]
    },
    {
      "cell_type": "markdown",
      "source": [],
      "metadata": {
        "id": "mnyd-gVE-Pxw"
      }
    },
    {
      "cell_type": "code",
      "source": [
        "print(\"\\nCleaning customer_df\")\n",
        "\n",
        "\n",
        "customer_df['region'] = customer_df['region'].str.strip().str.title()\n",
        "customer_df['loyalty_tier'] = customer_df['loyalty_tier'].str.strip().str.title()\n",
        "print(\"Customer_df text columns have been standardized.\")\n",
        "\n",
        "\n",
        "customer_df['signup_date'] = pd.to_datetime(customer_df['signup_date'])\n",
        "print(\"Customer_df 'signup_date' have been converted to datetime.\")\n",
        "\n",
        "\n",
        "initial_customer_rows = len(customer_df)\n",
        "customer_df.drop_duplicates(subset='customer_id', inplace=True)\n",
        "print(f\"Customer_df duplicates have been removed. Rows before: {initial_customer_rows}, after: {len(customer_df)}\")\n",
        "\n",
        "\n",
        "print(\" customer_df Cleaning Complete \")"
      ],
      "metadata": {
        "colab": {
          "base_uri": "https://localhost:8080/"
        },
        "id": "u7lNG18X9_RP",
        "outputId": "7d8f9930-5f66-4fe4-a4f0-593049b489f8"
      },
      "execution_count": 9,
      "outputs": [
        {
          "output_type": "stream",
          "name": "stdout",
          "text": [
            "\n",
            "Cleaning customer_df\n",
            "Customer_df text columns standardized.\n",
            "Customer_df 'signup_date' converted to datetime.\n",
            "Customer_df duplicates removed. Rows before: 498, after: 498\n",
            "--- customer_df Cleaning Complete ---\n"
          ]
        }
      ]
    },
    {
      "cell_type": "code",
      "source": [
        "#Task 3"
      ],
      "metadata": {
        "id": "igh5BaXQ-xUc"
      },
      "execution_count": 10,
      "outputs": []
    },
    {
      "cell_type": "code",
      "source": [
        "sales_df = pd.read_csv('/content/drive/My Drive/sales_data.csv')\n",
        "product_df = pd.read_csv('/content/drive/My Drive/product_info.csv')\n",
        "customer_df = pd.read_csv('/content/drive/My Drive/customer_info.csv')\n",
        "\n",
        "print(\"All DataFrames loaded.\")"
      ],
      "metadata": {
        "id": "i51AL4st_Ii4"
      },
      "execution_count": null,
      "outputs": []
    },
    {
      "cell_type": "code",
      "source": [
        "print(\"\\n Cleaning sales_df\")\n",
        "\n",
        "\n",
        "sales_df['delivery_status'] = sales_df['delivery_status'].astype(str).str.strip().str.title()\n",
        "sales_df['payment_method'] = sales_df['payment_method'].astype(str).str.strip().str.title()\n",
        "sales_df['region'] = sales_df['region'].astype(str).str.strip().str.title()\n",
        "print(\"Sales_df text columns have been standardized.\")\n",
        "\n",
        "\n",
        "sales_df['order_date'] = pd.to_datetime(sales_df['order_date'])\n",
        "print(\"Sales_df 'order_date' have been converted to datetime.\")\n",
        "\n",
        "\n",
        "sales_df['discount_applied'].fillna(0.0, inplace=True)\n",
        "print(\"Sales_df missing 'discount_applied' filled.\")\n",
        "\n",
        "\n",
        "initial_sales_rows = len(sales_df)\n",
        "sales_df.drop_duplicates(subset='order_id', inplace=True)\n",
        "print(f\"Sales_df duplicates have been removed. Rows before: {initial_sales_rows}, after: {len(sales_df)}\")\n",
        "\n",
        "\n",
        "print(f\"Sales_df: Negative quantity values: {(sales_df['quantity'] < 0).sum()}\")\n",
        "print(f\"Sales_df: Negative unit_price values: {(sales_df['unit_price'] < 0).sum()}\")\n",
        "print(f\"Sales_df: Negative discount_applied values: {(sales_df['discount_applied'] < 0).sum()}\")\n",
        "\n",
        "print(\" sales_df Cleaning Complete\")"
      ],
      "metadata": {
        "colab": {
          "base_uri": "https://localhost:8080/"
        },
        "id": "FUmDo6TE_PX6",
        "outputId": "4432ef55-3448-4fbb-e4ba-0564dcbb85cf"
      },
      "execution_count": 17,
      "outputs": [
        {
          "output_type": "stream",
          "name": "stdout",
          "text": [
            "--- Cleaning sales_df ---\n",
            "Sales_df text columns standardized.\n",
            "Sales_df 'order_date' converted to datetime.\n",
            "Sales_df missing 'discount_applied' filled.\n",
            "Sales_df duplicates removed. Rows before: 2998, after: 2998\n",
            "Sales_df: Negative quantity values: 0\n",
            "Sales_df: Negative unit_price values: 0\n",
            "Sales_df: Negative discount_applied values: 0\n",
            "--- sales_df Cleaning Complete ---\n"
          ]
        },
        {
          "output_type": "stream",
          "name": "stderr",
          "text": [
            "/tmp/ipython-input-17-4079910023.py:15: FutureWarning: A value is trying to be set on a copy of a DataFrame or Series through chained assignment using an inplace method.\n",
            "The behavior will change in pandas 3.0. This inplace method will never work because the intermediate object on which we are setting values always behaves as a copy.\n",
            "\n",
            "For example, when doing 'df[col].method(value, inplace=True)', try using 'df.method({col: value}, inplace=True)' or df[col] = df[col].method(value) instead, to perform the operation inplace on the original object.\n",
            "\n",
            "\n",
            "  sales_df['discount_applied'].fillna(0.0, inplace=True)\n"
          ]
        }
      ]
    },
    {
      "cell_type": "code",
      "source": [
        "print(\"\\n Cleaning product_df\")\n",
        "\n",
        "product_df['product_name'] = product_df['product_name'].str.strip().str.title()\n",
        "product_df['category'] = product_df['category'].str.strip().str.title()\n",
        "print(\"Product_df text columns have been standardized.\")\n",
        "\n",
        "print(\"\\nFirst 10 values of 'launch_date' before conversion:\")\n",
        "print(product_df['launch_date'].head(10))\n",
        "\n",
        "\n",
        "product_df['launch_date'] = pd.to_datetime(product_df['launch_date'], errors='coerce')\n",
        "print(\"Product_df 'launch_date' converted to datetime.\")\n",
        "\n",
        "product_df['supplier_code'].fillna('Unknown', inplace=True)\n",
        "print(\"Product_df missing 'supplier_code' filled.\")\n",
        "\n",
        "initial_product_rows = len(product_df)\n",
        "product_df.drop_duplicates(subset='product_id', inplace=True)\n",
        "print(f\"Product_df duplicates removed. Rows before: {initial_product_rows}, after: {len(product_df)}\")\n",
        "\n",
        "print(f\"Product_df: Negative base_price values: {(product_df['base_price'] < 0).sum()}\")\n",
        "\n",
        "print(\"\\n product_df Cleaning Complete\")"
      ],
      "metadata": {
        "colab": {
          "base_uri": "https://localhost:8080/"
        },
        "id": "-nfMgE0JFUQ8",
        "outputId": "86882bfb-465b-4177-d35a-720a0d11fb83"
      },
      "execution_count": 29,
      "outputs": [
        {
          "output_type": "stream",
          "name": "stdout",
          "text": [
            "\n",
            " Cleaning product_df\n",
            "Product_df text columns have been standardized.\n",
            "\n",
            "First 10 values of 'launch_date' before conversion:\n",
            "0   NaT\n",
            "1   NaT\n",
            "2   NaT\n",
            "3   NaT\n",
            "4   NaT\n",
            "5   NaT\n",
            "6   NaT\n",
            "7   NaT\n",
            "8   NaT\n",
            "9   NaT\n",
            "Name: launch_date, dtype: datetime64[ns]\n",
            "Product_df 'launch_date' converted to datetime.\n",
            "Product_df missing 'supplier_code' filled.\n",
            "Product_df duplicates removed. Rows before: 30, after: 30\n",
            "Product_df: Negative base_price values: 0\n",
            "\n",
            " product_df Cleaning Complete\n"
          ]
        },
        {
          "output_type": "stream",
          "name": "stderr",
          "text": [
            "/tmp/ipython-input-29-567527735.py:14: FutureWarning: A value is trying to be set on a copy of a DataFrame or Series through chained assignment using an inplace method.\n",
            "The behavior will change in pandas 3.0. This inplace method will never work because the intermediate object on which we are setting values always behaves as a copy.\n",
            "\n",
            "For example, when doing 'df[col].method(value, inplace=True)', try using 'df.method({col: value}, inplace=True)' or df[col] = df[col].method(value) instead, to perform the operation inplace on the original object.\n",
            "\n",
            "\n",
            "  product_df['supplier_code'].fillna('Unknown', inplace=True)\n"
          ]
        }
      ]
    },
    {
      "cell_type": "code",
      "source": [
        "print(\"\\n Cleaning customer_df\")\n",
        "\n",
        "customer_df['regipon'] = customer_df['region'].str.strip().str.title()\n",
        "customer_df['loyalty_tier'] = customer_df['loyalty_tier'].str.strip().str.title()\n",
        "print(\"Customer_df text columns have been standardized.\")\n",
        "\n",
        "customer_df['signup_date'] = pd.to_datetime(customer_df['signup_date'])\n",
        "print(\"Customer_df 'signup_date' has been converted to datetime.\")\n",
        "\n",
        "initial_customer_rows = len(customer_df)\n",
        "customer_df.drop_duplicates(subset='customer_id' , inplace= True)\n",
        "print(f\"Customer_df duplicates have been removed. Rows before: {initial_customer_rows}, after: {len(customer_df)}\")\n",
        "\n",
        "print(\"\\n customer_df Cleaning Complete\")\n",
        "\n"
      ],
      "metadata": {
        "colab": {
          "base_uri": "https://localhost:8080/"
        },
        "id": "vwBMuVGNNZ_J",
        "outputId": "b8cdf839-b5d1-47ba-8121-e30c67f18fd2"
      },
      "execution_count": 31,
      "outputs": [
        {
          "output_type": "stream",
          "name": "stdout",
          "text": [
            "\n",
            " Cleaning customer_df\n",
            "Customer_df text columns have been standardized.\n",
            "Customer_df 'signup_date' has been converted to datetime.\n",
            "Customer_df duplicates have been removed. Rows before: 498, after: 498\n",
            "\n",
            " customer_df Cleaning Complete\n"
          ]
        }
      ]
    },
    {
      "cell_type": "code",
      "source": [
        "print(\"\\n--- Starting Task 3: Merging DataFrames ---\")\n",
        "\n",
        "\n",
        "merged_df = pd.merge(sales_df, product_df, on='product_id', how='left')\n",
        "print(\"Merged sales_df with product_df.\")\n",
        "\n",
        "\n",
        "merged_df = pd.merge(merged_df, customer_df, on='customer_id', how='left')\n",
        "print(\"Merged with customer_df to create final merged_df.\")\n",
        "\n",
        "print(\"\\n--- Merging DataFrames Complete! ---\")\n",
        "print(\"First 5 rows of the merged_df:\")\n",
        "print(merged_df.head())\n",
        "print(\"\\nInfo about the merged_df:\")\n",
        "merged_df.info()"
      ],
      "metadata": {
        "colab": {
          "base_uri": "https://localhost:8080/"
        },
        "id": "JqiTMtbNO1eV",
        "outputId": "0cf85897-86b9-4cc1-bdca-0bfa1ca96848"
      },
      "execution_count": 32,
      "outputs": [
        {
          "output_type": "stream",
          "name": "stdout",
          "text": [
            "\n",
            "--- Starting Task 3: Merging DataFrames ---\n",
            "Merged sales_df with product_df.\n",
            "Merged with customer_df to create final merged_df.\n",
            "\n",
            "--- Merging DataFrames Complete! ---\n",
            "First 5 rows of the merged_df:\n",
            "  order_id customer_id product_id  quantity  unit_price order_date  \\\n",
            "0  O966977      C00397      P0022       3.0       39.25 2025-06-07   \n",
            "1  O696648      C00236      P0023       5.0       18.92 2025-06-07   \n",
            "2  O202644      C00492      P0011       1.0       29.68 2025-06-07   \n",
            "3  O501803      C00031      P0003       1.0       32.76 2025-06-07   \n",
            "4  O322242      C00495      P0016       1.0       47.62 2025-06-07   \n",
            "\n",
            "  delivery_status                                     payment_method region_x  \\\n",
            "0       Delivered  <Bound Method Stringmethods.Title Of <Pandas.C...  Central   \n",
            "1         Delayed  <Bound Method Stringmethods.Title Of <Pandas.C...    North   \n",
            "2       Delivered  <Bound Method Stringmethods.Title Of <Pandas.C...    North   \n",
            "3       Cancelled  <Bound Method Stringmethods.Title Of <Pandas.C...  Central   \n",
            "4         Delayed  <Bound Method Stringmethods.Title Of <Pandas.C...     West   \n",
            "\n",
            "   discount_applied  ...  category launch_date base_price  supplier_code  \\\n",
            "0              0.00  ...  Cleaning         NaT      19.77           S924   \n",
            "1              0.00  ...  Outdoors         NaT      36.04           S907   \n",
            "2              0.15  ...   Kitchen         NaT      11.08           S645   \n",
            "3              0.20  ...  Cleaning         NaT       7.92           S745   \n",
            "4              0.20  ...  Cleaning         NaT      26.71           S715   \n",
            "\n",
            "                              email signup_date  gender region_y loyalty_tier  \\\n",
            "0  jacquelinemartin@mills-logan.com  2024-08-09  Female    North       Silver   \n",
            "1            georgeweber@morgan.com  2024-06-08   Other    North         Gold   \n",
            "2           lcook@walters-smith.com  2024-09-25    Male  Central         Gold   \n",
            "3                  smoore@gmail.com  2024-07-28   femle  Central         Gold   \n",
            "4      mcclainkatherine@hotmail.com  2024-09-18    male  Central         Gold   \n",
            "\n",
            "   regipon  \n",
            "0    North  \n",
            "1    North  \n",
            "2  Central  \n",
            "3  Central  \n",
            "4  Central  \n",
            "\n",
            "[5 rows x 21 columns]\n",
            "\n",
            "Info about the merged_df:\n",
            "<class 'pandas.core.frame.DataFrame'>\n",
            "RangeIndex: 2998 entries, 0 to 2997\n",
            "Data columns (total 21 columns):\n",
            " #   Column            Non-Null Count  Dtype         \n",
            "---  ------            --------------  -----         \n",
            " 0   order_id          2997 non-null   object        \n",
            " 1   customer_id       2996 non-null   object        \n",
            " 2   product_id        2993 non-null   object        \n",
            " 3   quantity          2998 non-null   float64       \n",
            " 4   unit_price        2998 non-null   float64       \n",
            " 5   order_date        2995 non-null   datetime64[ns]\n",
            " 6   delivery_status   2998 non-null   object        \n",
            " 7   payment_method    2998 non-null   object        \n",
            " 8   region_x          2998 non-null   object        \n",
            " 9   discount_applied  2998 non-null   float64       \n",
            " 10  product_name      2993 non-null   object        \n",
            " 11  category          2993 non-null   object        \n",
            " 12  launch_date       0 non-null      datetime64[ns]\n",
            " 13  base_price        2993 non-null   float64       \n",
            " 14  supplier_code     2993 non-null   object        \n",
            " 15  email             2943 non-null   object        \n",
            " 16  signup_date       2946 non-null   datetime64[ns]\n",
            " 17  gender            2956 non-null   object        \n",
            " 18  region_y          2959 non-null   object        \n",
            " 19  loyalty_tier      2965 non-null   object        \n",
            " 20  regipon           2959 non-null   object        \n",
            "dtypes: datetime64[ns](3), float64(4), object(14)\n",
            "memory usage: 492.0+ KB\n"
          ]
        }
      ]
    },
    {
      "cell_type": "code",
      "source": [
        "import pandas as pd\n",
        "\n",
        "sales_df = pd.read_csv('/content/drive/My Drive/sales_data.csv')\n",
        "product_df = pd.read_csv('/content/drive/My Drive/product_info.csv')\n",
        "customer_df = pd.read_csv('/content/drive/My Drive/customer_info.csv')\n",
        "print(\"\\nAll raw DataFrames loaded.\")\n",
        "\n",
        "\n",
        "sales_df['delivery_status'] = sales_df['delivery_status'].astype(str).str.strip().str.title()\n",
        "sales_df['payment_method'] = sales_df['payment_method'].astype(str).str.strip().str.title()\n",
        "sales_df['region'] = sales_df['region'].astype(str).str.strip().str.title()\n",
        "sales_df['order_date'] = pd.to_datetime(sales_df['order_date'], errors='coerce')\n",
        "sales_df['quantity'] = pd.to_numeric(sales_df['quantity'], errors='coerce')\n",
        "sales_df['unit_price'] = pd.to_numeric(sales_df['unit_price'], errors='coerce')\n",
        "sales_df['discount_applied'] = pd.to_numeric(sales_df['discount_applied'], errors='coerce')\n",
        "sales_df['discount_applied'].fillna(0.0, inplace=True)\n",
        "initial_sales_rows = len(sales_df)\n",
        "sales_df.drop_duplicates(subset='order_id', inplace=True)\n",
        "print(f\"Sales_df duplicates removed. Rows before: {initial_sales_rows}, after: {len(sales_df)}\")\n",
        "print(f\"Sales_df: Negative quantity values: {(sales_df['quantity'] < 0).sum()}\")\n",
        "print(f\"Sales_df: Negative unit_price values: {(sales_df['unit_price'] < 0).sum()}\")\n",
        "print(f\"Sales_df: Negative discount_applied values: {(sales_df['discount_applied'] < 0).sum()}\")\n",
        "print(f\"Sales_df: NaN values in order_date after cleaning: {sales_df['order_date'].isna().sum()}\")\n",
        "\n",
        "\n",
        "\n",
        "product_df['product_name'] = product_df['product_name'].astype(str).str.strip().str.title()\n",
        "product_df['category'] = product_df['category'].astype(str).str.strip().str.title()\n",
        "product_df['launch_date'] = pd.to_datetime(product_df['launch_date'], errors='coerce')\n",
        "product_df['supplier_code'].fillna('Unknown', inplace=True)\n",
        "initial_product_rows = len(product_df)\n",
        "product_df.drop_duplicates(subset='product_id', inplace=True)\n",
        "print(f\"Product_df duplicates removed. Rows before: {initial_product_rows}, after: {len(product_df)}\")\n",
        "product_df['base_price'] = pd.to_numeric(product_df['base_price'], errors='coerce')\n",
        "print(f\"Product_df: Negative base_price values: {(product_df['base_price'] < 0).sum()}\")\n",
        "print(f\"Product_df: NaN values in launch_date after cleaning: {product_df['launch_date'].isna().sum()}\")\n",
        "\n",
        "\n",
        "customer_df['region'] = customer_df['region'].astype(str).str.strip().str.title()\n",
        "customer_df['loyalty_tier'] = customer_df['loyalty_tier'].astype(str).str.strip().str.title()\n",
        "customer_df['signup_date'] = pd.to_datetime(customer_df['signup_date'], errors='coerce') # Added errors='coerce' here\n",
        "initial_customer_rows = len(customer_df)\n",
        "customer_df.drop_duplicates(subset='customer_id', inplace=True)\n",
        "print(f\"Customer_df duplicates removed. Rows before: {initial_customer_rows}, after: {len(customer_df)}\")\n",
        "print(f\"Customer_df: NaN values in signup_date after cleaning: {customer_df['signup_date'].isna().sum()}\")\n",
        "\n",
        "\n",
        "merged_df = pd.merge(sales_df, product_df, on='product_id', how='left')\n",
        "merged_df = pd.merge(merged_df, customer_df, on='customer_id', how='left')\n",
        "print(\"\\nMerged all DataFrames into merged_df.\")\n",
        "print(f\"Merged_df: NaN values in order_date after merge: {merged_df['order_date'].isna().sum()}\")\n",
        "print(f\"Merged_df: NaN values in launch_date after merge: {merged_df['launch_date'].isna().sum()}\")\n",
        "print(f\"Merged_df: NaN values in signup_date after merge: {merged_df['signup_date'].isna().sum()}\")\n",
        "\n",
        "\n",
        "\n",
        "merged_df['revenue'] = merged_df['quantity'] * merged_df['unit_price'] * (1 - merged_df['discount_applied'])\n",
        "\n",
        "\n",
        "merged_df['order_week'] = merged_df['order_date'].dt.isocalendar().week.astype(float).fillna(0).astype(int)\n",
        "\n",
        "\n",
        "\n",
        "def categorize_price(price):\n",
        "    if pd.isna(price):\n",
        "        return 'Unknown'\n",
        "    if price < 15:\n",
        "        return 'Low'\n",
        "    elif 15 <= price <= 30:\n",
        "        return 'Medium'\n",
        "    else:\n",
        "        return 'High'\n",
        "\n",
        "merged_df['price_band'] = merged_df['unit_price'].apply(categorize_price)\n",
        "merged_df['days_to_order'] = (merged_df['order_date'] - merged_df['launch_date']).dt.days\n",
        "merged_df['email_domain'] = merged_df['email'].astype(str).apply(lambda x: x.split('@')[-1] if '@' in x else 'Unknown')\n",
        "merged_df['is_late'] = merged_df['delivery_status'] == 'Delayed'\n",
        "\n",
        "print(\"\\n--- All Data Preparation and Feature Engineering Complete ---\")\n",
        "print(\"First 5 rows of the merged_df with new features:\")\n",
        "print(merged_df.head())\n",
        "print(\"\\nInfo about the merged_df after feature engineering:\")\n",
        "merged_df.info()"
      ],
      "metadata": {
        "colab": {
          "base_uri": "https://localhost:8080/"
        },
        "id": "1Q5CEOHiQOgi",
        "outputId": "dadf5aa8-e1f1-4d91-e6bf-5e2bb26db5a1"
      },
      "execution_count": 41,
      "outputs": [
        {
          "output_type": "stream",
          "name": "stdout",
          "text": [
            "\n",
            "All raw DataFrames loaded.\n",
            "Sales_df duplicates removed. Rows before: 3000, after: 2998\n",
            "Sales_df: Negative quantity values: 0\n",
            "Sales_df: Negative unit_price values: 0\n",
            "Sales_df: Negative discount_applied values: 0\n",
            "Sales_df: NaN values in order_date after cleaning: 3\n",
            "Product_df duplicates removed. Rows before: 30, after: 30\n",
            "Product_df: Negative base_price values: 0\n",
            "Product_df: NaN values in launch_date after cleaning: 0\n",
            "Customer_df duplicates removed. Rows before: 500, after: 498\n",
            "Customer_df: NaN values in signup_date after cleaning: 4\n",
            "\n",
            "Merged all DataFrames into merged_df.\n",
            "Merged_df: NaN values in order_date after merge: 3\n",
            "Merged_df: NaN values in launch_date after merge: 5\n",
            "Merged_df: NaN values in signup_date after merge: 52\n",
            "\n",
            "--- All Data Preparation and Feature Engineering Complete ---\n",
            "First 5 rows of the merged_df with new features:\n",
            "  order_id customer_id product_id  quantity  unit_price order_date  \\\n",
            "0  O966977      C00397      P0022       3.0       39.25 2025-06-07   \n",
            "1  O696648      C00236      P0023       5.0       18.92 2025-06-07   \n",
            "2  O202644      C00492      P0011       1.0       29.68 2025-06-07   \n",
            "3  O501803      C00031      P0003       1.0       32.76 2025-06-07   \n",
            "4  O322242      C00495      P0016       1.0       47.62 2025-06-07   \n",
            "\n",
            "  delivery_status payment_method region_x  discount_applied  ... signup_date  \\\n",
            "0       Delivered         Paypal  Central              0.00  ...  2024-08-09   \n",
            "1         Delayed    Credit Card    North              0.00  ...  2024-06-08   \n",
            "2       Delivered  Bank Transfer    North              0.15  ...  2024-09-25   \n",
            "3       Cancelled    Credit Card  Central              0.20  ...  2024-07-28   \n",
            "4         Delayed    Credit Card     West              0.20  ...  2024-09-18   \n",
            "\n",
            "   gender region_y  loyalty_tier  revenue order_week price_band days_to_order  \\\n",
            "0  Female    North        Silver  117.750         23       High         423.0   \n",
            "1   Other    North          Gold   94.600         23     Medium         140.0   \n",
            "2    Male  Central          Gold   25.228         23     Medium          74.0   \n",
            "3   femle  Central          Gold   26.208         23       High         327.0   \n",
            "4    male  Central          Gold   38.096         23       High         107.0   \n",
            "\n",
            "        email_domain is_late  \n",
            "0    mills-logan.com   False  \n",
            "1         morgan.com    True  \n",
            "2  walters-smith.com   False  \n",
            "3          gmail.com   False  \n",
            "4        hotmail.com    True  \n",
            "\n",
            "[5 rows x 26 columns]\n",
            "\n",
            "Info about the merged_df after feature engineering:\n",
            "<class 'pandas.core.frame.DataFrame'>\n",
            "RangeIndex: 2998 entries, 0 to 2997\n",
            "Data columns (total 26 columns):\n",
            " #   Column            Non-Null Count  Dtype         \n",
            "---  ------            --------------  -----         \n",
            " 0   order_id          2997 non-null   object        \n",
            " 1   customer_id       2996 non-null   object        \n",
            " 2   product_id        2993 non-null   object        \n",
            " 3   quantity          2993 non-null   float64       \n",
            " 4   unit_price        2997 non-null   float64       \n",
            " 5   order_date        2995 non-null   datetime64[ns]\n",
            " 6   delivery_status   2998 non-null   object        \n",
            " 7   payment_method    2998 non-null   object        \n",
            " 8   region_x          2998 non-null   object        \n",
            " 9   discount_applied  2998 non-null   float64       \n",
            " 10  product_name      2993 non-null   object        \n",
            " 11  category          2993 non-null   object        \n",
            " 12  launch_date       2993 non-null   datetime64[ns]\n",
            " 13  base_price        2993 non-null   float64       \n",
            " 14  supplier_code     2993 non-null   object        \n",
            " 15  email             2943 non-null   object        \n",
            " 16  signup_date       2946 non-null   datetime64[ns]\n",
            " 17  gender            2956 non-null   object        \n",
            " 18  region_y          2974 non-null   object        \n",
            " 19  loyalty_tier      2974 non-null   object        \n",
            " 20  revenue           2992 non-null   float64       \n",
            " 21  order_week        2998 non-null   int64         \n",
            " 22  price_band        2998 non-null   object        \n",
            " 23  days_to_order     2990 non-null   float64       \n",
            " 24  email_domain      2998 non-null   object        \n",
            " 25  is_late           2998 non-null   bool          \n",
            "dtypes: bool(1), datetime64[ns](3), float64(6), int64(1), object(15)\n",
            "memory usage: 588.6+ KB\n"
          ]
        },
        {
          "output_type": "stream",
          "name": "stderr",
          "text": [
            "/tmp/ipython-input-41-501427969.py:16: FutureWarning: A value is trying to be set on a copy of a DataFrame or Series through chained assignment using an inplace method.\n",
            "The behavior will change in pandas 3.0. This inplace method will never work because the intermediate object on which we are setting values always behaves as a copy.\n",
            "\n",
            "For example, when doing 'df[col].method(value, inplace=True)', try using 'df.method({col: value}, inplace=True)' or df[col] = df[col].method(value) instead, to perform the operation inplace on the original object.\n",
            "\n",
            "\n",
            "  sales_df['discount_applied'].fillna(0.0, inplace=True)\n",
            "/tmp/ipython-input-41-501427969.py:29: UserWarning: Could not infer format, so each element will be parsed individually, falling back to `dateutil`. To ensure parsing is consistent and as-expected, please specify a format.\n",
            "  product_df['launch_date'] = pd.to_datetime(product_df['launch_date'], errors='coerce')\n",
            "/tmp/ipython-input-41-501427969.py:30: FutureWarning: A value is trying to be set on a copy of a DataFrame or Series through chained assignment using an inplace method.\n",
            "The behavior will change in pandas 3.0. This inplace method will never work because the intermediate object on which we are setting values always behaves as a copy.\n",
            "\n",
            "For example, when doing 'df[col].method(value, inplace=True)', try using 'df.method({col: value}, inplace=True)' or df[col] = df[col].method(value) instead, to perform the operation inplace on the original object.\n",
            "\n",
            "\n",
            "  product_df['supplier_code'].fillna('Unknown', inplace=True)\n",
            "/tmp/ipython-input-41-501427969.py:41: UserWarning: Could not infer format, so each element will be parsed individually, falling back to `dateutil`. To ensure parsing is consistent and as-expected, please specify a format.\n",
            "  customer_df['signup_date'] = pd.to_datetime(customer_df['signup_date'], errors='coerce') # Added errors='coerce' here\n"
          ]
        }
      ]
    },
    {
      "cell_type": "code",
      "source": [
        "import matplotlib.pyplot as plt\n",
        "import seaborn as sns\n",
        "\n",
        "print(\"\\n Summarize the findings\")\n",
        "\n",
        "total_revenue = merged_df['revenue'].sum()\n",
        "avg_order_value = merged_df['revenue'].mean()\n",
        "total_orders = merged_df['order_id'].nunique()\n",
        "print(f\"\\n Overall Sales Performance:\")\n",
        "print(f\"Total Revenue: £{total_revenue:,.2f}\")\n",
        "print(f\"Average Order Value: £{avg_order_value:,.2f}\")\n",
        "print(f\"Total Unique Orders: {total_orders}\")\n",
        "\n",
        "\n",
        "top_products = merged_df.groupby('product_name')['revenue'].sum().nlargest(5)\n",
        "print(\"\\nTop 5 Products by Revenue:\")\n",
        "print(top_products)\n",
        "\n",
        "top_customers = merged_df.groupby('customer_id')['revenue'].sum().nlargest(5).reset_index()\n",
        "print(\"\\nTop 5 Customers by Revenue:\")\n",
        "print(top_customers)\n",
        "\n",
        "revenue_by_region = merged_df.groupby('region_x')['revenue'].sum().sort_values(ascending=False).reset_index()\n",
        "print(f\"\\nRevenue by Order Region:\")\n",
        "print(revenue_by_region)\n",
        "\n",
        "\n",
        "discounted_revenue = merged_df[merged_df['discount_applied'] > 0]['revenue'].sum()\n",
        "non_discounted_revenue = merged_df[merged_df['discount_applied'] == 0]['revenue'].sum()\n",
        "print(f\"\\nImpact of Discount:\")\n",
        "print(f\"Revenue from Discounted Orders: £{discounted_revenue:,.2f}\")\n",
        "print(f\"Revenue from Non-Discounted Orders: £{non_discounted_revenue:,.2f}\")\n",
        "avg_discount_per_order = merged_df[merged_df['discount_applied'] > 0]['discount_applied'].mean()\n",
        "print(f\"Average Discount Applied (for orders with discount): {avg_discount_per_order:.2%}\")\n",
        "\n",
        "\n",
        "delivery_status_dist = merged_df['delivery_status'].value_counts().reset_index()\n",
        "delivery_status_dist.columns = ['Delivery Status', 'Count']\n",
        "print(f\"nDelivery Status Distribution:\")\n",
        "print(delivery_status_dist)\n",
        "\n",
        "sales_by_week = merged_df.groupby('order_week')['revenue'].sum().reset_index()\n",
        "print(f\"\\nSales by Week:\")\n",
        "print(sales_by_week)\n",
        "\n",
        "\n",
        "\n",
        "\n"
      ],
      "metadata": {
        "colab": {
          "base_uri": "https://localhost:8080/"
        },
        "id": "3-z1XKT7RWEC",
        "outputId": "8662f022-8067-4aa6-bffc-37045f1b6f3c"
      },
      "execution_count": 43,
      "outputs": [
        {
          "output_type": "stream",
          "name": "stdout",
          "text": [
            "\n",
            " Summarize the findings\n",
            "\n",
            " Overall Sales Performance:\n",
            "Total Revenue: £240,076.28\n",
            "Average Order Value: £80.24\n",
            "Total Unique Orders: 2997\n",
            "\n",
            "Top 5 Products by Revenue:\n",
            "product_name\n",
            "Storage Product 10     9927.6675\n",
            "Kitchen Product 53     9726.8775\n",
            "Cleaning Product 70    9682.1465\n",
            "Kitchen Product 82     9571.9290\n",
            "Outdoors Product 55    8784.4770\n",
            "Name: revenue, dtype: float64\n",
            "\n",
            "Top 5 Customers by Revenue:\n",
            "  customer_id    revenue\n",
            "0      C00108  1546.4655\n",
            "1      C00385  1488.3685\n",
            "2      C00062  1212.6120\n",
            "3      C00104  1211.8955\n",
            "4      C00191  1183.7035\n",
            "\n",
            "Revenue by Order Region:\n",
            "  region_x     revenue\n",
            "0    South  49716.3350\n",
            "1     West  48104.2505\n",
            "2     East  47906.1120\n",
            "3  Central  47468.6515\n",
            "4    North  46861.4175\n",
            "5     Nrth     19.5120\n",
            "\n",
            "Impact of Discount:\n",
            "Revenue from Discounted Orders: £154,358.64\n",
            "Revenue from Non-Discounted Orders: £85,717.64\n",
            "Average Discount Applied (for orders with discount): 12.43%\n",
            "nDelivery Status Distribution:\n",
            "  Delivery Status  Count\n",
            "0       Delivered   1231\n",
            "1         Delayed   1171\n",
            "2       Cancelled    591\n",
            "3             Nan      3\n",
            "4           Delrd      1\n",
            "5           Delyd      1\n",
            "\n",
            "Sales by Week:\n",
            "   order_week      revenue\n",
            "0           0     344.3940\n",
            "1          23  239731.8845\n"
          ]
        }
      ]
    },
    {
      "cell_type": "code",
      "source": [
        "sns.set_style(\"whitegrid\")\n",
        "plt.figure(figsize=(18, 12))\n",
        "\n",
        "\n",
        "plt.subplot(2, 3, 1)\n",
        "sns.lineplot(x='order_week', y='revenue', data=sales_by_week, marker='o')\n",
        "plt.title('Total Revenue by Order Week')\n",
        "plt.xlabel('Order Week')\n",
        "plt.ylabel('Revenue (£)')\n",
        "plt.xticks(rotation=45)\n",
        "\n",
        "\n",
        "plt.subplot(2, 3, 2)\n",
        "revenue_by_price_band = merged_df.groupby('price_band')['revenue'].sum().reindex(['Low', 'Medium', 'High']).reset_index()\n",
        "sns.barplot(x='price_band', y='revenue', data=revenue_by_price_band, palette='viridis')\n",
        "plt.title('Total Revenue by Price Band')\n",
        "plt.xlabel('Price Band')\n",
        "plt.ylabel('Revenue (£)')\n",
        "\n",
        "\n",
        "plt.subplot(2, 3, 3)\n",
        "sns.barplot(x='region_x', y='revenue', data=revenue_by_region, palette='plasma')\n",
        "plt.title('Total Revenue by Order Region')\n",
        "plt.xlabel('Region')\n",
        "plt.ylabel('Revenue (£)')\n",
        "plt.xticks(rotation=45)\n",
        "\n",
        "\n",
        "plt.subplot(2, 3, 4)\n",
        "revenue_by_loyalty = merged_df.groupby('loyalty_tier')['revenue'].sum().sort_values(ascending=False).reset_index()\n",
        "sns.barplot(x='loyalty_tier', y='revenue', data=revenue_by_loyalty, palette='plasma')\n",
        "plt.title('Total Revenue by Loyalty Tier')\n",
        "plt.xlabel('Loyalty Tier')\n",
        "plt.ylabel('Revenue (£)')\n",
        "\n",
        "\n",
        "plt.subplot(2, 3, 5)\n",
        "sns.barplot(x='Status', y='Count', data=delivery_status_dist, palette='cividis')\n",
        "plt.title('Delivery Status Distribution')\n",
        "plt.xlabel('Status')\n",
        "plt.ylabel('Number of Orders')\n",
        "\n",
        "plt.tight_layout()\n",
        "plt.show()\n",
        "\n",
        "print(\"\\n--- Task 6: Visualizations Complete! ---\")"
      ],
      "metadata": {
        "colab": {
          "base_uri": "https://localhost:8080/",
          "height": 1000
        },
        "id": "jn_pN16pYq3q",
        "outputId": "8fabf05a-618a-4590-b69c-4f0b25e8fcb8"
      },
      "execution_count": 57,
      "outputs": [
        {
          "output_type": "display_data",
          "data": {
            "text/plain": [
              "<Figure size 1800x1200 with 5 Axes>"
            ],
            "image/png": "[encoded data removed]"
          },
          "metadata": {}
        },
        {
          "output_type": "stream",
          "name": "stdout",
          "text": [
            "\n",
            "--- Task 6: Visualizations Complete! ---\n"
          ]
        }
      ]
    }
  ]
}